{
 "cells": [
  {
   "cell_type": "markdown",
   "id": "e303f7c8",
   "metadata": {},
   "source": [
    "#  DSC540-T302 Data Preparation  #\n",
    "\n",
    "## Weeks 11 & 12: Storing Data and Final Project ##\n",
    "\n",
    "### Saravanan Janarthanan ###\n",
    "\n",
    "### Assignment ###\n",
    "\n",
    "-------------"
   ]
  },
  {
   "cell_type": "markdown",
   "id": "2a5de448",
   "metadata": {},
   "source": [
    "#### Activity 8.01: Retrieving Data Accurately from Databases ####"
   ]
  },
  {
   "cell_type": "markdown",
   "id": "94bb4503",
   "metadata": {},
   "source": [
    "The goal of this activity is to fetch data and retrieve information from two tables, persons and pets, which are a part of the petsdb database.\n",
    "\n",
    "Perform queries to answer the questions<br>\n",
    "- 1. What is the count of people belonging to different age groups in the persons table?\n",
    "- 2. Which age group has the maximum number of people?\n",
    "- 3. How many people do not have a last name?\n",
    "- 4. How many people have more than one pet?\n",
    "- 5. How many pets have received treatment?\n",
    "- 6. How many pets have received treatment, and the type of pet is known?\n",
    "- 7. How many pets are from the city called east port?\n",
    "- 8. How many pets are from the city called east port, and who received treatment?"
   ]
  },
  {
   "cell_type": "code",
   "execution_count": 1,
   "id": "8a39d0c5",
   "metadata": {},
   "outputs": [],
   "source": [
    "import sqlite3\n",
    "\n"
   ]
  },
  {
   "cell_type": "markdown",
   "id": "bba50dbb",
   "metadata": {},
   "source": [
    "**1 What is the count of people belonging to different age groups in the persons table?**"
   ]
  },
  {
   "cell_type": "markdown",
   "id": "5493d8e2",
   "metadata": {},
   "source": [
    "To answer the same get the count of each age from persons table and use GROUP BY  age and print the same"
   ]
  },
  {
   "cell_type": "code",
   "execution_count": 2,
   "id": "2708bcc2",
   "metadata": {},
   "outputs": [],
   "source": [
    "# Obtain the connection to petsdb.  Petsdb is already loaded with table data.  using the portable db file in the local folder \n",
    "# open the a connection to it.\n",
    "conn = sqlite3.connect(\"petsdb\")\n",
    "\n",
    "# create a cursor from the connection to obatin resultset\n",
    "cursr = conn.cursor()"
   ]
  },
  {
   "cell_type": "code",
   "execution_count": 3,
   "id": "c10dd27a",
   "metadata": {},
   "outputs": [
    {
     "name": "stdout",
     "output_type": "stream",
     "text": [
      "At age  5  ther are  2  persons\n",
      "At age  6  ther are  1  persons\n",
      "At age  7  ther are  1  persons\n",
      "At age  8  ther are  3  persons\n",
      "At age  9  ther are  1  persons\n",
      "At age  11  ther are  2  persons\n",
      "At age  12  ther are  3  persons\n",
      "At age  13  ther are  1  persons\n",
      "At age  14  ther are  4  persons\n",
      "At age  16  ther are  2  persons\n",
      "At age  17  ther are  2  persons\n",
      "At age  18  ther are  3  persons\n",
      "At age  19  ther are  1  persons\n",
      "At age  22  ther are  3  persons\n",
      "At age  23  ther are  2  persons\n",
      "At age  24  ther are  3  persons\n",
      "At age  25  ther are  2  persons\n",
      "At age  27  ther are  1  persons\n",
      "At age  30  ther are  1  persons\n",
      "At age  31  ther are  3  persons\n",
      "At age  32  ther are  1  persons\n",
      "At age  33  ther are  1  persons\n",
      "At age  34  ther are  2  persons\n",
      "At age  35  ther are  3  persons\n",
      "At age  36  ther are  3  persons\n",
      "At age  37  ther are  1  persons\n",
      "At age  39  ther are  2  persons\n",
      "At age  40  ther are  1  persons\n",
      "At age  42  ther are  1  persons\n",
      "At age  44  ther are  2  persons\n",
      "At age  48  ther are  2  persons\n",
      "At age  49  ther are  1  persons\n",
      "At age  50  ther are  1  persons\n",
      "At age  51  ther are  2  persons\n",
      "At age  52  ther are  2  persons\n",
      "At age  53  ther are  2  persons\n",
      "At age  54  ther are  2  persons\n",
      "At age  58  ther are  1  persons\n",
      "At age  59  ther are  1  persons\n",
      "At age  60  ther are  1  persons\n",
      "At age  61  ther are  1  persons\n",
      "At age  62  ther are  2  persons\n",
      "At age  63  ther are  1  persons\n",
      "At age  65  ther are  2  persons\n",
      "At age  66  ther are  2  persons\n",
      "At age  67  ther are  1  persons\n",
      "At age  68  ther are  3  persons\n",
      "At age  69  ther are  1  persons\n",
      "At age  70  ther are  1  persons\n",
      "At age  71  ther are  4  persons\n",
      "At age  72  ther are  1  persons\n",
      "At age  73  ther are  5  persons\n",
      "At age  74  ther are  3  persons\n"
     ]
    }
   ],
   "source": [
    "# construct the query to fetch groupe age count\n",
    "query1 = 'SELECT count(*), age from persons GROUP BY age'\n",
    "\n",
    "# Execute the query and print the age and count values\n",
    "for count_ppl, age in cursr.execute(query1):\n",
    "\n",
    "    print(\"At age \", age, \" ther are \", count_ppl, \" persons\") "
   ]
  },
  {
   "cell_type": "markdown",
   "id": "eae93952",
   "metadata": {},
   "source": [
    "**2 Which age group has the maximum number of people?**"
   ]
  },
  {
   "cell_type": "markdown",
   "id": "3b518f34",
   "metadata": {},
   "source": [
    "To find the max value among the age count,  query the count value for each age by grouping it and the sort by count value in descending to have the high count value in the top<br>\n",
    "\n",
    "Print the first row only to answer the question\n"
   ]
  },
  {
   "cell_type": "code",
   "execution_count": 4,
   "id": "a7a889bd",
   "metadata": {},
   "outputs": [
    {
     "name": "stdout",
     "output_type": "stream",
     "text": [
      "Age  73  has  5  persons which is max among the age group\n"
     ]
    }
   ],
   "source": [
    "# construct the query to fetch groupe age count and then sort the order in descending \n",
    "# to have max values in top to low values in the bottom\n",
    "query2 = \"SELECT age, count(*) as ppl_count FROM persons GROUP BY age  ORDER BY ppl_count DESC\"\n",
    "\n",
    "# Execute the query and print the age and count with max values \n",
    "for age, count_ppl in cursr.execute(query2):\n",
    "    print(\"Age \", age, \" has \", count_ppl, \" persons which is max among the age group\") \n",
    "    break\n"
   ]
  },
  {
   "cell_type": "markdown",
   "id": "86f81819",
   "metadata": {},
   "source": [
    "**3 How many people do not have a last name?**"
   ]
  },
  {
   "cell_type": "markdown",
   "id": "bd6917fa",
   "metadata": {},
   "source": [
    "Execute a query to find count of persons from persons table that has the column last_name column filled with null value which implies that those records have no last_name value.\n"
   ]
  },
  {
   "cell_type": "code",
   "execution_count": 5,
   "id": "d5a10ca2",
   "metadata": {},
   "outputs": [
    {
     "name": "stdout",
     "output_type": "stream",
     "text": [
      "60  people do no have a last name\n"
     ]
    }
   ],
   "source": [
    "# construct the query to fetch count of persons whose last name value has nulls values\n",
    "query3 = \"SELECT count(*) FROM persons WHERE last_name is null\"\n",
    "\n",
    "# Execute the query and print the count of persons with no last name\n",
    "rows = cursr.execute(query3)\n",
    "\n",
    "# Iterate the cursor to print rows from query result\n",
    "for row in rows:\n",
    "    print(row[0] , \" people do no have a last name\")"
   ]
  },
  {
   "cell_type": "markdown",
   "id": "0bb64293",
   "metadata": {},
   "source": [
    "**4 How many people have more than one pet?**"
   ]
  },
  {
   "cell_type": "markdown",
   "id": "094a13ff",
   "metadata": {},
   "source": [
    "From the pets table find the count of owner ids or owners those have more than one pet.  This query provides a list of records grouped by ownerid with petcount.  USe this result and query over to aggregate the count numbers to obtain owner count."
   ]
  },
  {
   "cell_type": "code",
   "execution_count": 6,
   "id": "4f9c14a5",
   "metadata": {},
   "outputs": [
    {
     "name": "stdout",
     "output_type": "stream",
     "text": [
      "43  people have more than one pet\n"
     ]
    }
   ],
   "source": [
    "# construct the sub query to aggrgate the count list from inner query\n",
    "query4 = \"SELECT count(*) FROM (SELECT count(owner_id) as ownr_count FROM pets GROUP BY owner_id HAVING ownr_count > 1)\"\n",
    "\n",
    "# Execute the query and print the aggregated owner count\n",
    "rows = cursr.execute(query4)\n",
    "    \n",
    "for row in rows:\n",
    "    print(row[0] , \" people have more than one pet\")"
   ]
  },
  {
   "cell_type": "markdown",
   "id": "a5fc37ad",
   "metadata": {},
   "source": [
    "**5 How many pets have received treatment?**"
   ]
  },
  {
   "cell_type": "markdown",
   "id": "c7e58dc2",
   "metadata": {},
   "source": [
    "From pets table find the count the records that has  treatment_done column value with 1"
   ]
  },
  {
   "cell_type": "code",
   "execution_count": 7,
   "id": "c8cab34e",
   "metadata": {},
   "outputs": [
    {
     "name": "stdout",
     "output_type": "stream",
     "text": [
      "36  pets has received treatment\n"
     ]
    }
   ],
   "source": [
    "# construct the query to fetch count of pets that has treatment_done value with 1\n",
    "query5 = \"SELECT count(*) FROM pets WHERE treatment_done = 1\"\n",
    "\n",
    "# Execute the query and print count of pets from query5\n",
    "rows = cursr.execute(query5)\n",
    "    \n",
    "for row in rows:\n",
    "    print(row[0] , \" pets has received treatment\")"
   ]
  },
  {
   "cell_type": "markdown",
   "id": "a163fb64",
   "metadata": {},
   "source": [
    "**6 How many pets have received treatment, and the type of pet is known?**"
   ]
  },
  {
   "cell_type": "markdown",
   "id": "0e8d204f",
   "metadata": {},
   "source": [
    "Use an AND operator to combine both conditions ,  treatment_done = 1 and pet_type column value as null and query the pets table."
   ]
  },
  {
   "cell_type": "code",
   "execution_count": 8,
   "id": "4cbb13ae",
   "metadata": {},
   "outputs": [
    {
     "name": "stdout",
     "output_type": "stream",
     "text": [
      "16  pets has received treatment with their type is known\n"
     ]
    }
   ],
   "source": [
    "# construct the query to fetch pet count for those rows that has treatment_done = 1 and pet_type value is null \n",
    "query6 = \"SELECT count(*) FROM pets WHERE treatment_done = 1 AND pet_type is NOT null\"\n",
    "\n",
    "# Execute the query pet count from query 6\n",
    "rows = cursr.execute(query6)\n",
    "    \n",
    "for row in rows:\n",
    "    print(row[0] , \" pets has received treatment with their type is known\")"
   ]
  },
  {
   "cell_type": "markdown",
   "id": "6300296c",
   "metadata": {},
   "source": [
    "**7 How many pets are from the city called east port?**"
   ]
  },
  {
   "cell_type": "markdown",
   "id": "1fc210b2",
   "metadata": {},
   "source": [
    "Join two tables on owner_id to find the mergdata that has city column value with 'east port' in persons table and count the records"
   ]
  },
  {
   "cell_type": "code",
   "execution_count": 9,
   "id": "ec458998",
   "metadata": {},
   "outputs": [
    {
     "name": "stdout",
     "output_type": "stream",
     "text": [
      "49  pets are from the city called east port\n"
     ]
    }
   ],
   "source": [
    "# construct the query to fetch number of pets whose owner's city value is 'east port'\n",
    "query7 = \"SELECT count(*) FROM pets JOIN persons ON pets.owner_id = persons.id WHERE persons.city='east port'\"\n",
    "\n",
    "# Execute the query and print count of pets from query 7\n",
    "rows = cursr.execute(query7)\n",
    "    \n",
    "for row in rows:\n",
    "    print(row[0] , \" pets are from the city called east port\")"
   ]
  },
  {
   "cell_type": "markdown",
   "id": "ec45c64b",
   "metadata": {},
   "source": [
    "**8 How many pets are from the city called east port, and who received treatment?**"
   ]
  },
  {
   "cell_type": "markdown",
   "id": "441076c4",
   "metadata": {},
   "source": [
    "Join two tables on owner_id to find the mergdata that has city column value with 'east port' in persons table ,  'treatment_done' value 1 in pets table and count the records"
   ]
  },
  {
   "cell_type": "code",
   "execution_count": 10,
   "id": "5fb6e786",
   "metadata": {},
   "outputs": [
    {
     "name": "stdout",
     "output_type": "stream",
     "text": [
      "11  pets are from the city called east port, and who received treatment\n"
     ]
    }
   ],
   "source": [
    "# construct the query to fetch number of pets whose owner's city value is 'east port' and pets 'treatment_done'  value is 1\n",
    "query8 = \"SELECT count(*) FROM pets \\\n",
    "          JOIN persons ON pets.owner_id = persons.id \\\n",
    "          WHERE persons.city='east port' AND \\\n",
    "          pets.treatment_done = 1\"\n",
    "\n",
    "# Execute the query and print count of pets from query 8\n",
    "rows = cursr.execute(query8)\n",
    "    \n",
    "for row in rows:\n",
    "    print(row[0] , \" pets are from the city called east port, and who received treatment\")"
   ]
  },
  {
   "cell_type": "code",
   "execution_count": 11,
   "id": "de023678",
   "metadata": {},
   "outputs": [],
   "source": [
    "    \n",
    "# Close the connection\n",
    "conn.close()"
   ]
  }
 ],
 "metadata": {
  "kernelspec": {
   "display_name": "Python 3 (ipykernel)",
   "language": "python",
   "name": "python3"
  },
  "language_info": {
   "codemirror_mode": {
    "name": "ipython",
    "version": 3
   },
   "file_extension": ".py",
   "mimetype": "text/x-python",
   "name": "python",
   "nbconvert_exporter": "python",
   "pygments_lexer": "ipython3",
   "version": "3.11.5"
  }
 },
 "nbformat": 4,
 "nbformat_minor": 5
}
