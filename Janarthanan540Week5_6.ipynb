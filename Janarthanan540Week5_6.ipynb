{
 "cells": [
  {
   "cell_type": "markdown",
   "id": "a7306aa0",
   "metadata": {},
   "source": [
    "#  DSC540-T302 Data Preparation  #\n",
    "\n",
    "## Weeks 5 & 6: Data Formats/Data Structures/Data Sources ##\n",
    "\n",
    "### Saravanan Janarthanan ###\n",
    "\n",
    "### Assignment ###\n",
    "\n",
    "-------------\n"
   ]
  },
  {
   "cell_type": "markdown",
   "id": "4fe68587",
   "metadata": {},
   "source": [
    "### Activity 5.01: Reading Tabular Data from a Web Page and Creating DataFrames ###\n",
    "\n",
    "In this activity, you have been given a Wikipedia page where you have the GDP of all countries listed. You have to create three DataFrames from the three sources mentioned on the page (https://en.wikipedia.org/wiki/List_of_countries_by_GDP_(nominal)).\n",
    "\n",
    "You will have to do the following:\n",
    "\n",
    "    Open the page in a separate Chrome/Firefox tab and use something like an Inspect Element tool to view the source HTML and understand its structure.\n",
    "    Read the page using bs4.\n",
    "    Find the table structure you will need to deal with (how many tables are there?).\n",
    "    Find the right table using bs4.\n",
    "    Separate the source names and their corresponding data.\n",
    "    Get the source names from the list of sources you have created.\n",
    "    Separate the header and data from the data that you separated before for the first source only, and then create a DataFrame using that.\n",
    "    Repeat the last task for the other two data sources.\n",
    "\n"
   ]
  },
  {
   "cell_type": "code",
   "execution_count": 1,
   "id": "cf5b4973",
   "metadata": {},
   "outputs": [],
   "source": [
    "# Load the modules\n",
    "from bs4 import BeautifulSoup\n",
    "import numpy as np\n",
    "import pandas as pd"
   ]
  },
  {
   "cell_type": "markdown",
   "id": "2429c84c",
   "metadata": {},
   "source": [
    "#### Read the page using bs4.\n",
    "\n",
    "**Since the page / link has a updated content with only one table,  wheras the orginal html had 3 tables,  the backup copy avalable locally is used**"
   ]
  },
  {
   "cell_type": "code",
   "execution_count": 2,
   "id": "0b2152d5",
   "metadata": {},
   "outputs": [],
   "source": [
    "# Read the page using bs4.\n",
    "\n",
    "soup = \" \"\n",
    "# Open the html file available in local file system  and load into a soup object\n",
    "with open(\"datasets/List_of_countries_by_GDP.htm\", \"r\", encoding='utf-8', errors='ignore') as fd:\n",
    "    soup = BeautifulSoup(fd)\n"
   ]
  },
  {
   "cell_type": "code",
   "execution_count": 3,
   "id": "62459a7d",
   "metadata": {},
   "outputs": [
    {
     "name": "stdout",
     "output_type": "stream",
     "text": [
      " Number of tables in the page is  :  9\n"
     ]
    }
   ],
   "source": [
    "# Find the table structure you will need to deal with (how many tables are there?).\n",
    "# Find all tables\n",
    "tables = soup.find_all('table')\n",
    "\n",
    "print(\" Number of tables in the page is  : \" , len(tables) )"
   ]
  },
  {
   "cell_type": "markdown",
   "id": "c5dd49a5",
   "metadata": {},
   "source": [
    "#### Find the right table using bs4. ####\n",
    "Inspecting the table structure the GDP values are listed in 3 tables wrapped by a parent table.\n",
    "\n",
    "The parent table styled using css class **\"wikitable\"|}**\n",
    "\n",
    "The 3 tables that hold the GDP values are styles using **'wikitable sortable jquery-tablesorter'**  class"
   ]
  },
  {
   "cell_type": "code",
   "execution_count": 4,
   "id": "d951aa8a",
   "metadata": {},
   "outputs": [
    {
     "name": "stdout",
     "output_type": "stream",
     "text": [
      "['Per the International Monetary Fund (2017)[1]', 'Per the World Bank (2017)[20]', 'Per the United Nations (2016)[21][22]']\n"
     ]
    }
   ],
   "source": [
    "#  Retrieve the header by parsing the first 3 rows that has the header for 3 tables using TR and TD tags\n",
    "gdp_tables = soup.find(\"table\", {\"class\": '\"wikitable\"|}'})\n",
    "tr_elements = gdp_tables.find_all('tr')\n",
    "td_elements = tr_elements[0].find_all('td')\n",
    "tables_hdr = [cell.text.strip() for cell in td_elements]\n",
    "print(tables_hdr)\n",
    "\n",
    "\n"
   ]
  },
  {
   "cell_type": "code",
   "execution_count": 5,
   "id": "4a7ae1b3",
   "metadata": {},
   "outputs": [
    {
     "name": "stdout",
     "output_type": "stream",
     "text": [
      "Table :  Per the International Monetary Fund (2017)\n",
      "  Rank        Country  GDP(US$MM)\n",
      "0           World[19]  79,865,481\n",
      "1    1  United States  19,390,600\n",
      "2    2     China[n 1]  12,014,610\n",
      "3    3          Japan   4,872,135\n",
      "4    4        Germany   3,684,816\n",
      "\n",
      "\n",
      "\n",
      "Table :  Per the World Bank (2017)\n",
      "  Rank             Country  GDP(US$MM)\n",
      "0                    World  80,683,787\n",
      "1    1       United States  19,390,604\n",
      "2       European Union[23]  17,277,698\n",
      "3    2          China[n 4]  12,237,700\n",
      "4    3               Japan   4,872,137\n",
      "\n",
      "\n",
      "\n",
      "Table :  Per the United Nations (2016)\n",
      "  Rank        Country  GDP(US$MM)\n",
      "0           World[24]  75,648,448\n",
      "1    1  United States  18,624,475\n",
      "2    2     China[n 4]  11,218,281\n",
      "3    3          Japan   4,936,211\n",
      "4    4        Germany   3,477,796\n",
      "\n",
      "\n",
      "\n"
     ]
    }
   ],
   "source": [
    "# Retrieve all the tags in the table that was styled using class value 'wikitable sortable jquery-tablesorter''\n",
    "# This returns all the 3 tables that has the gdp values\n",
    "tables =  soup.find_all('table', class_='wikitable sortable jquery-tablesorter')\n",
    "\n",
    "# Declare a list to hold the 3 tables data in a dataframe for later printing\n",
    "table_content_df_lst = []\n",
    "\n",
    "# Extract and print table data\n",
    "# Iterate through the tables soup object ( 3 tables are available)\n",
    "for index, table in enumerate(tables, start=1):\n",
    "    # Reteieve all the TR tags \n",
    "    rows = table.find_all('tr')\n",
    "    \n",
    "    # Declare a list to hold all the row data of the table\n",
    "    temp_lst = []\n",
    "    \n",
    "    for row in rows:\n",
    "        # filter all the TH, TD, THEAD and TBODY tags \n",
    "        cells = row.find_all(['th','td','thead','tbody'])\n",
    "        \n",
    "        # strip other values and retrieve only the tag text values\n",
    "        row_data = [cell.text.strip() for cell in cells]\n",
    "        \n",
    "        # based on the web page inspection ,   two tables has a character and numbers preceding the GSP value\n",
    "        # indentify the index of the character and assign the values following the character\n",
    "        spl_car_indx = str(row_data[2]).find(\"♠\")\n",
    "        if( spl_car_indx != -1):\n",
    "            row_data[2] = str(row_data[2])[spl_car_indx+1:].strip()\n",
    "        temp_lst.append(row_data)\n",
    "    \n",
    "    # Once all the rows in the tables are process,  create a data frame using the list of rows\n",
    "    # the first record is the header and rest are all values\n",
    "    # Add the Dataframe to the list\n",
    "    table_content_df_lst.append(pd.DataFrame(temp_lst[1:], columns=temp_lst[0]))     \n",
    "\n",
    "    \n",
    "# Iterate the list and retrieve the dataframe that holds the table data    \n",
    "for idx , df in enumerate(table_content_df_lst):\n",
    "    \n",
    "    # strip and super script reference values in the header\n",
    "    sub_scrt_idx = tables_hdr[idx].find('[')\n",
    "    print(\"Table : \", tables_hdr[idx][:sub_scrt_idx])\n",
    "    \n",
    "    # print the dataframe top 5 records\n",
    "    print(df.head())\n",
    "    print(\"\\n\\n\")"
   ]
  },
  {
   "attachments": {
    "image.png": {
     "image/png": "[encoded data removed]"
    }
   },
   "cell_type": "markdown",
   "id": "17a98c42",
   "metadata": {},
   "source": [
    "Screen shot of the tables in web page\n",
    "\n",
    "![image.png](attachment:image.png)"
   ]
  },
  {
   "cell_type": "markdown",
   "id": "64e926ce",
   "metadata": {},
   "source": [
    "------------"
   ]
  },
  {
   "cell_type": "markdown",
   "id": "6cfd0d23",
   "metadata": {},
   "source": [
    "**Activity 6.01: Handling Outliers and Missing Data**\n",
    "\n",
    "In this activity, we will identify and get rid of outliers. Here, we have a CSV file. The goal here is to clean the data by using the knowledge that we have learned about so far and come up with a nicely formatted DataFrame. Identify the type of outliers and their effect on the data and clean the messy data.\n",
    "\n",
    "The dataset that we have used here can be found in the visit_data.csv file. This file contains data generated by a random data generator, and it contains people's names, their gender, email_id, ip_address, and the number of visits they made to a particular web page.\n",
    "\n",
    "\n",
    "The steps that will help you solve this activity are as follows:\n",
    "\n",
    "    Read the visit_data.csv file.\n",
    "    Check for duplicates.\n",
    "    Check whether any essential column contains NaN.\n",
    "    Get rid of the outliers.\n",
    "    Report the size difference.\n",
    "    Create a box plot to check for outliers.\n",
    "    Get rid of any outliers"
   ]
  },
  {
   "cell_type": "markdown",
   "id": "d41bfd21",
   "metadata": {},
   "source": [
    "**Read the visit_data.csv file.**"
   ]
  },
  {
   "cell_type": "code",
   "execution_count": 6,
   "id": "c7b58883",
   "metadata": {},
   "outputs": [
    {
     "data": {
      "text/html": [
       "<div>\n",
       "<style scoped>\n",
       "    .dataframe tbody tr th:only-of-type {\n",
       "        vertical-align: middle;\n",
       "    }\n",
       "\n",
       "    .dataframe tbody tr th {\n",
       "        vertical-align: top;\n",
       "    }\n",
       "\n",
       "    .dataframe thead th {\n",
       "        text-align: right;\n",
       "    }\n",
       "</style>\n",
       "<table border=\"1\" class=\"dataframe\">\n",
       "  <thead>\n",
       "    <tr style=\"text-align: right;\">\n",
       "      <th></th>\n",
       "      <th>id</th>\n",
       "      <th>first_name</th>\n",
       "      <th>last_name</th>\n",
       "      <th>email</th>\n",
       "      <th>gender</th>\n",
       "      <th>ip_address</th>\n",
       "      <th>visit</th>\n",
       "    </tr>\n",
       "  </thead>\n",
       "  <tbody>\n",
       "    <tr>\n",
       "      <th>0</th>\n",
       "      <td>1</td>\n",
       "      <td>Sonny</td>\n",
       "      <td>Dahl</td>\n",
       "      <td>sdahl0@mysql.com</td>\n",
       "      <td>Male</td>\n",
       "      <td>135.36.96.183</td>\n",
       "      <td>1225.0</td>\n",
       "    </tr>\n",
       "    <tr>\n",
       "      <th>1</th>\n",
       "      <td>2</td>\n",
       "      <td>NaN</td>\n",
       "      <td>NaN</td>\n",
       "      <td>dhoovart1@hud.gov</td>\n",
       "      <td>NaN</td>\n",
       "      <td>237.165.194.143</td>\n",
       "      <td>919.0</td>\n",
       "    </tr>\n",
       "    <tr>\n",
       "      <th>2</th>\n",
       "      <td>3</td>\n",
       "      <td>Gar</td>\n",
       "      <td>Armal</td>\n",
       "      <td>garmal2@technorati.com</td>\n",
       "      <td>NaN</td>\n",
       "      <td>166.43.137.224</td>\n",
       "      <td>271.0</td>\n",
       "    </tr>\n",
       "    <tr>\n",
       "      <th>3</th>\n",
       "      <td>4</td>\n",
       "      <td>Chiarra</td>\n",
       "      <td>Nulty</td>\n",
       "      <td>cnulty3@newyorker.com</td>\n",
       "      <td>NaN</td>\n",
       "      <td>139.98.137.108</td>\n",
       "      <td>1002.0</td>\n",
       "    </tr>\n",
       "    <tr>\n",
       "      <th>4</th>\n",
       "      <td>5</td>\n",
       "      <td>NaN</td>\n",
       "      <td>NaN</td>\n",
       "      <td>sleaver4@elegantthemes.com</td>\n",
       "      <td>NaN</td>\n",
       "      <td>46.117.117.27</td>\n",
       "      <td>2434.0</td>\n",
       "    </tr>\n",
       "  </tbody>\n",
       "</table>\n",
       "</div>"
      ],
      "text/plain": [
       "   id first_name last_name                       email gender  \\\n",
       "0   1      Sonny      Dahl            sdahl0@mysql.com   Male   \n",
       "1   2        NaN       NaN           dhoovart1@hud.gov    NaN   \n",
       "2   3        Gar     Armal      garmal2@technorati.com    NaN   \n",
       "3   4    Chiarra     Nulty       cnulty3@newyorker.com    NaN   \n",
       "4   5        NaN       NaN  sleaver4@elegantthemes.com    NaN   \n",
       "\n",
       "        ip_address   visit  \n",
       "0    135.36.96.183  1225.0  \n",
       "1  237.165.194.143   919.0  \n",
       "2   166.43.137.224   271.0  \n",
       "3   139.98.137.108  1002.0  \n",
       "4    46.117.117.27  2434.0  "
      ]
     },
     "execution_count": 6,
     "metadata": {},
     "output_type": "execute_result"
    }
   ],
   "source": [
    "# Read the visit_data.csv file.\n",
    "vis_dat_df = pd.read_csv('visit_data.csv')\n",
    "vis_dat_df.head()"
   ]
  },
  {
   "cell_type": "code",
   "execution_count": 7,
   "id": "6f279e81",
   "metadata": {},
   "outputs": [
    {
     "name": "stdout",
     "output_type": "stream",
     "text": [
      "The file has  1000  records\n"
     ]
    }
   ],
   "source": [
    "print('The file has ', len(vis_dat_df), ' records')"
   ]
  },
  {
   "cell_type": "markdown",
   "id": "b1da5342",
   "metadata": {},
   "source": [
    "**Check for duplicates.**"
   ]
  },
  {
   "cell_type": "code",
   "execution_count": 8,
   "id": "9e0b2346",
   "metadata": {},
   "outputs": [],
   "source": [
    "duplicate_data = vis_dat_df.duplicated()"
   ]
  },
  {
   "cell_type": "code",
   "execution_count": 9,
   "id": "2eec39e2",
   "metadata": {},
   "outputs": [
    {
     "name": "stdout",
     "output_type": "stream",
     "text": [
      "there are  0  duplicate records in the data file \n"
     ]
    }
   ],
   "source": [
    "print('there are ', duplicate_data.sum(), ' duplicate records in the data file ')"
   ]
  },
  {
   "cell_type": "code",
   "execution_count": 10,
   "id": "01220f8e",
   "metadata": {},
   "outputs": [
    {
     "name": "stdout",
     "output_type": "stream",
     "text": [
      "Total number rows that are duplicated for column  id  is  0\n",
      "Total number rows that are duplicated for column  first_name  is  320\n",
      "Total number rows that are duplicated for column  last_name  is  299\n",
      "Total number rows that are duplicated for column  email  is  0\n",
      "Total number rows that are duplicated for column  gender  is  997\n",
      "Total number rows that are duplicated for column  ip_address  is  0\n",
      "Total number rows that are duplicated for column  visit  is  164\n"
     ]
    }
   ],
   "source": [
    "# Iterate the columns and print the duplicate values\n",
    "for col_nm in vis_dat_df.columns:\n",
    "    print('Total number rows that are duplicated for column ', col_nm ,  ' is ', vis_dat_df[col_nm].duplicated().sum())"
   ]
  },
  {
   "cell_type": "markdown",
   "id": "2c1cd0dc",
   "metadata": {},
   "source": [
    "**Check whether any essential column contains NaN**"
   ]
  },
  {
   "cell_type": "code",
   "execution_count": 11,
   "id": "39e9121b",
   "metadata": {},
   "outputs": [
    {
     "data": {
      "text/plain": [
       "id              0\n",
       "first_name    296\n",
       "last_name     296\n",
       "email           0\n",
       "gender        505\n",
       "ip_address      0\n",
       "visit          26\n",
       "dtype: int64"
      ]
     },
     "execution_count": 11,
     "metadata": {},
     "output_type": "execute_result"
    }
   ],
   "source": [
    "# print the nan counts in each column\n",
    "vis_dat_df.isna().sum()"
   ]
  },
  {
   "cell_type": "markdown",
   "id": "e6a48c67",
   "metadata": {},
   "source": [
    "Purpose of the data is to collect the number of visits ,  if it is null or no data,  then it does not serve the purpose,  hence removing those outliers\n"
   ]
  },
  {
   "cell_type": "code",
   "execution_count": 12,
   "id": "57a4f7a5",
   "metadata": {},
   "outputs": [],
   "source": [
    "# drop the records that has NAN values in visits column or feature\n",
    "vis_data_df_cleaned = vis_dat_df.dropna(subset=['visit'])"
   ]
  },
  {
   "cell_type": "markdown",
   "id": "0c9d6fee",
   "metadata": {},
   "source": [
    "**Report the size difference.**"
   ]
  },
  {
   "cell_type": "code",
   "execution_count": 13,
   "id": "c7e4ffb9",
   "metadata": {},
   "outputs": [
    {
     "name": "stdout",
     "output_type": "stream",
     "text": [
      "The key column cleaned up  file has  974  records\n",
      "number of records deleted are  26\n"
     ]
    }
   ],
   "source": [
    "# Print the net record count after dropping records\n",
    "print('The key column cleaned up  file has ', len(vis_data_df_cleaned), ' records')\n",
    "print('number of records deleted are ', (1000- len(vis_data_df_cleaned)))"
   ]
  },
  {
   "cell_type": "markdown",
   "id": "d8e96c1a",
   "metadata": {},
   "source": [
    "**Create a box plot to check for outliers.**"
   ]
  },
  {
   "cell_type": "code",
   "execution_count": 14,
   "id": "1d0ff040",
   "metadata": {},
   "outputs": [
    {
     "data": {
      "image/png": "[encoded data removed]",
      "text/plain": [
       "<Figure size 640x480 with 1 Axes>"
      ]
     },
     "metadata": {},
     "output_type": "display_data"
    }
   ],
   "source": [
    "# Create a box plot to visually view the quantiles , Inter Quantile Range,  Lower Quantile  (left most) \n",
    "# and Upper Quantile (right most)\n",
    "import matplotlib.pyplot as plt\n",
    "plt.boxplot(vis_data_df_cleaned['visit'], vert=False, meanline=True)\n",
    "plt.ylabel('Number of Visits')\n",
    "plt.xlabel('Frequency')\n",
    "plt.title('Visits Box plot')\n",
    "plt.show()"
   ]
  },
  {
   "cell_type": "code",
   "execution_count": 15,
   "id": "8e618409",
   "metadata": {},
   "outputs": [
    {
     "name": "stdout",
     "output_type": "stream",
     "text": [
      "Quantile values\n",
      "0.00       1.00\n",
      "0.25     794.50\n",
      "0.50    1477.00\n",
      "0.75    2224.25\n",
      "1.00    2998.00\n",
      "Name: visit, dtype: float64\n"
     ]
    }
   ],
   "source": [
    "# From the box plot the outliers are on 1st and 4th quantile\n",
    "# print the quantile values\n",
    "print('Quantile values')\n",
    "print(vis_data_df_cleaned['visit'].quantile([ 0,0.25, 0.5, 0.75, 1]))"
   ]
  },
  {
   "cell_type": "code",
   "execution_count": 16,
   "id": "1118c2cc",
   "metadata": {},
   "outputs": [
    {
     "data": {
      "text/plain": [
       "1.0"
      ]
     },
     "execution_count": 16,
     "metadata": {},
     "output_type": "execute_result"
    }
   ],
   "source": [
    "min(vis_data_df_cleaned['visit'])"
   ]
  },
  {
   "cell_type": "code",
   "execution_count": 17,
   "id": "1d5f4a5d",
   "metadata": {},
   "outputs": [
    {
     "data": {
      "text/plain": [
       "2998.0"
      ]
     },
     "execution_count": 17,
     "metadata": {},
     "output_type": "execute_result"
    }
   ],
   "source": [
    "max(vis_data_df_cleaned['visit'])"
   ]
  },
  {
   "cell_type": "markdown",
   "id": "39dbb85d",
   "metadata": {},
   "source": [
    "**Get rid of any outliers**"
   ]
  },
  {
   "cell_type": "code",
   "execution_count": 18,
   "id": "daf90feb",
   "metadata": {},
   "outputs": [
    {
     "data": {
      "image/png": "[encoded data removed]",
      "text/plain": [
       "<Figure size 640x480 with 1 Axes>"
      ]
     },
     "metadata": {},
     "output_type": "display_data"
    }
   ],
   "source": [
    "# Create a histogram\n",
    "plt.hist(vis_data_df_cleaned['visit'], bins=60, edgecolor='black')  # Adjust the number of bins as needed\n",
    "\n",
    "# Add labels and title\n",
    "plt.xlabel('Visit')\n",
    "plt.ylabel('Frequency')\n",
    "plt.title('Histogram of Visit')\n",
    "\n",
    "# Show the plot\n",
    "plt.show()"
   ]
  },
  {
   "cell_type": "code",
   "execution_count": 19,
   "id": "4a8557e1",
   "metadata": {},
   "outputs": [],
   "source": [
    "# From the histogram view \n",
    "# removing values less than 50 and greater than 2850\n",
    "vis_data_df_final = vis_data_df_cleaned[(vis_data_df_cleaned['visit'] > 50) & (vis_data_df_cleaned['visit'] < 2850) ]"
   ]
  },
  {
   "cell_type": "code",
   "execution_count": 20,
   "id": "80c5dcef",
   "metadata": {},
   "outputs": [
    {
     "data": {
      "text/html": [
       "<div>\n",
       "<style scoped>\n",
       "    .dataframe tbody tr th:only-of-type {\n",
       "        vertical-align: middle;\n",
       "    }\n",
       "\n",
       "    .dataframe tbody tr th {\n",
       "        vertical-align: top;\n",
       "    }\n",
       "\n",
       "    .dataframe thead th {\n",
       "        text-align: right;\n",
       "    }\n",
       "</style>\n",
       "<table border=\"1\" class=\"dataframe\">\n",
       "  <thead>\n",
       "    <tr style=\"text-align: right;\">\n",
       "      <th></th>\n",
       "      <th>id</th>\n",
       "      <th>first_name</th>\n",
       "      <th>last_name</th>\n",
       "      <th>email</th>\n",
       "      <th>gender</th>\n",
       "      <th>ip_address</th>\n",
       "      <th>visit</th>\n",
       "    </tr>\n",
       "  </thead>\n",
       "  <tbody>\n",
       "    <tr>\n",
       "      <th>0</th>\n",
       "      <td>1</td>\n",
       "      <td>Sonny</td>\n",
       "      <td>Dahl</td>\n",
       "      <td>sdahl0@mysql.com</td>\n",
       "      <td>Male</td>\n",
       "      <td>135.36.96.183</td>\n",
       "      <td>1225.0</td>\n",
       "    </tr>\n",
       "    <tr>\n",
       "      <th>1</th>\n",
       "      <td>2</td>\n",
       "      <td>NaN</td>\n",
       "      <td>NaN</td>\n",
       "      <td>dhoovart1@hud.gov</td>\n",
       "      <td>NaN</td>\n",
       "      <td>237.165.194.143</td>\n",
       "      <td>919.0</td>\n",
       "    </tr>\n",
       "    <tr>\n",
       "      <th>2</th>\n",
       "      <td>3</td>\n",
       "      <td>Gar</td>\n",
       "      <td>Armal</td>\n",
       "      <td>garmal2@technorati.com</td>\n",
       "      <td>NaN</td>\n",
       "      <td>166.43.137.224</td>\n",
       "      <td>271.0</td>\n",
       "    </tr>\n",
       "    <tr>\n",
       "      <th>3</th>\n",
       "      <td>4</td>\n",
       "      <td>Chiarra</td>\n",
       "      <td>Nulty</td>\n",
       "      <td>cnulty3@newyorker.com</td>\n",
       "      <td>NaN</td>\n",
       "      <td>139.98.137.108</td>\n",
       "      <td>1002.0</td>\n",
       "    </tr>\n",
       "    <tr>\n",
       "      <th>4</th>\n",
       "      <td>5</td>\n",
       "      <td>NaN</td>\n",
       "      <td>NaN</td>\n",
       "      <td>sleaver4@elegantthemes.com</td>\n",
       "      <td>NaN</td>\n",
       "      <td>46.117.117.27</td>\n",
       "      <td>2434.0</td>\n",
       "    </tr>\n",
       "  </tbody>\n",
       "</table>\n",
       "</div>"
      ],
      "text/plain": [
       "   id first_name last_name                       email gender  \\\n",
       "0   1      Sonny      Dahl            sdahl0@mysql.com   Male   \n",
       "1   2        NaN       NaN           dhoovart1@hud.gov    NaN   \n",
       "2   3        Gar     Armal      garmal2@technorati.com    NaN   \n",
       "3   4    Chiarra     Nulty       cnulty3@newyorker.com    NaN   \n",
       "4   5        NaN       NaN  sleaver4@elegantthemes.com    NaN   \n",
       "\n",
       "        ip_address   visit  \n",
       "0    135.36.96.183  1225.0  \n",
       "1  237.165.194.143   919.0  \n",
       "2   166.43.137.224   271.0  \n",
       "3   139.98.137.108  1002.0  \n",
       "4    46.117.117.27  2434.0  "
      ]
     },
     "execution_count": 20,
     "metadata": {},
     "output_type": "execute_result"
    }
   ],
   "source": [
    "vis_data_df_final.head()"
   ]
  },
  {
   "cell_type": "code",
   "execution_count": 21,
   "id": "c836374c",
   "metadata": {},
   "outputs": [
    {
     "name": "stdout",
     "output_type": "stream",
     "text": [
      "Final size of the dataframe after cleaning up the outliers is  913\n"
     ]
    }
   ],
   "source": [
    "print('Final size of the dataframe after cleaning up the outliers is ', len(vis_data_df_final) )"
   ]
  },
  {
   "cell_type": "markdown",
   "id": "8e175f3a",
   "metadata": {},
   "source": [
    "-------\n",
    "\n",
    "#### 3. Insert data into a SQL Lite database #### \n",
    "\n",
    "– create a table with the following data below that you will create yourself (Hint on how to create the SQL: Python for Data Analysis 2nd edition page 191, Python for Data Analysis 3rd Edition: Page 199):\n",
    "- a. Name, Address, City, State, Zip, Phone Number\n",
    "- b. Add at least 10 rows of data and submit your code with a query generating your results."
   ]
  },
  {
   "cell_type": "code",
   "execution_count": 22,
   "id": "f80f9721",
   "metadata": {},
   "outputs": [],
   "source": [
    "import sqlite3"
   ]
  },
  {
   "cell_type": "code",
   "execution_count": 23,
   "id": "7cb95ec6",
   "metadata": {},
   "outputs": [],
   "source": [
    "# create a table with Name, Address, City, State, Zip, Phone-Number columns\n",
    "db_qry = \"\"\" CREATE TABLE user_profile (name VARCHAR(50), address VARCHAR(50), city VARCHAR(20), state VARCHAR(20), zip INTEGER, phone_number INTEGER );\"\"\"\n",
    "# Obtain a SQL connection \n",
    "db_con = sqlite3.connect(\"mydata.sqlite\")\n",
    "# exeute the query to create the table\n",
    "db_con.execute(db_qry)\n",
    "# commit the executed query \n",
    "db_con.commit()"
   ]
  },
  {
   "cell_type": "code",
   "execution_count": 24,
   "id": "4563bf25",
   "metadata": {},
   "outputs": [],
   "source": [
    "# create 10 rows of data for the table\n",
    "prof_data = [('Emily Johnson','123 Oak Street',' Springfield','IL','62701',2015550123),\n",
    "             ('Michael Smith','456 Elm Avenue',' Portland','OR','97201',3105552345),\n",
    "             ('Olivia Williams','789 Maple Lane',' Houston','TX','77002',4045554567),\n",
    "             ('Ethan Brown','101 Pine Street',' New York','NY','10001',5125556789),\n",
    "             ('Ava Jones','234 Cedar Road',' Los Angeles','CA','90001',6175558901),\n",
    "             ('Noah Taylor','567 Birch Boulevard',' Chicago','IL','60601',7025551234),\n",
    "             ('Sophia Martinez','890 Walnut Drive',' Atlanta','GA','30301',8135553456),\n",
    "             ('Liam Anderson','1123 Willow Way',' Miami','FL','33101',9145555678),\n",
    "             ('Isabella Wilson','4567 Oakwood Court',' Seattle','WA','98101',9715557890),\n",
    "             ('Mason Davis','8901 Cedarwood Avenue',' Dallas','TX','75201',9895559012)]"
   ]
  },
  {
   "cell_type": "code",
   "execution_count": 25,
   "id": "88918247",
   "metadata": {},
   "outputs": [],
   "source": [
    "# Declare a insert statement query\n",
    "tbl_insrt_stmt = \"INSERT INTO user_profile VALUES(?, ?, ?, ?, ?, ?)\""
   ]
  },
  {
   "cell_type": "code",
   "execution_count": 26,
   "id": "cc7ec881",
   "metadata": {},
   "outputs": [],
   "source": [
    "# execute and commit the query to insert the data\n",
    "db_con.executemany(tbl_insrt_stmt, prof_data)\n",
    "db_con.commit()"
   ]
  },
  {
   "cell_type": "code",
   "execution_count": 27,
   "id": "907f92ed",
   "metadata": {},
   "outputs": [
    {
     "data": {
      "text/plain": [
       "[('Emily Johnson', '123 Oak Street', ' Springfield', 'IL', 62701, 2015550123),\n",
       " ('Michael Smith', '456 Elm Avenue', ' Portland', 'OR', 97201, 3105552345),\n",
       " ('Olivia Williams', '789 Maple Lane', ' Houston', 'TX', 77002, 4045554567),\n",
       " ('Ethan Brown', '101 Pine Street', ' New York', 'NY', 10001, 5125556789),\n",
       " ('Ava Jones', '234 Cedar Road', ' Los Angeles', 'CA', 90001, 6175558901),\n",
       " ('Noah Taylor', '567 Birch Boulevard', ' Chicago', 'IL', 60601, 7025551234),\n",
       " ('Sophia Martinez', '890 Walnut Drive', ' Atlanta', 'GA', 30301, 8135553456),\n",
       " ('Liam Anderson', '1123 Willow Way', ' Miami', 'FL', 33101, 9145555678),\n",
       " ('Isabella Wilson',\n",
       "  '4567 Oakwood Court',\n",
       "  ' Seattle',\n",
       "  'WA',\n",
       "  98101,\n",
       "  9715557890),\n",
       " ('Mason Davis', '8901 Cedarwood Avenue', ' Dallas', 'TX', 75201, 9895559012)]"
      ]
     },
     "execution_count": 27,
     "metadata": {},
     "output_type": "execute_result"
    }
   ],
   "source": [
    "# Create a cursor to run SELECT query\n",
    "cursor = db_con.execute(\"SELECT * FROM user_profile\")\n",
    "# Get all the rows from the query\n",
    "rows = cursor.fetchall()\n",
    "rows"
   ]
  },
  {
   "cell_type": "code",
   "execution_count": 28,
   "id": "bde245f5",
   "metadata": {},
   "outputs": [],
   "source": [
    "# Using sqlalchemy to query the table\n",
    "import sqlalchemy as sqla"
   ]
  },
  {
   "cell_type": "code",
   "execution_count": 29,
   "id": "cfd4cdb0",
   "metadata": {},
   "outputs": [],
   "source": [
    "db = sqla.create_engine(\"sqlite:///mydata.sqlite\")"
   ]
  },
  {
   "cell_type": "code",
   "execution_count": 30,
   "id": "64ff3952",
   "metadata": {},
   "outputs": [
    {
     "data": {
      "text/html": [
       "<div>\n",
       "<style scoped>\n",
       "    .dataframe tbody tr th:only-of-type {\n",
       "        vertical-align: middle;\n",
       "    }\n",
       "\n",
       "    .dataframe tbody tr th {\n",
       "        vertical-align: top;\n",
       "    }\n",
       "\n",
       "    .dataframe thead th {\n",
       "        text-align: right;\n",
       "    }\n",
       "</style>\n",
       "<table border=\"1\" class=\"dataframe\">\n",
       "  <thead>\n",
       "    <tr style=\"text-align: right;\">\n",
       "      <th></th>\n",
       "      <th>name</th>\n",
       "      <th>address</th>\n",
       "      <th>city</th>\n",
       "      <th>state</th>\n",
       "      <th>zip</th>\n",
       "      <th>phone_number</th>\n",
       "    </tr>\n",
       "  </thead>\n",
       "  <tbody>\n",
       "    <tr>\n",
       "      <th>0</th>\n",
       "      <td>Emily Johnson</td>\n",
       "      <td>123 Oak Street</td>\n",
       "      <td>Springfield</td>\n",
       "      <td>IL</td>\n",
       "      <td>62701</td>\n",
       "      <td>2015550123</td>\n",
       "    </tr>\n",
       "    <tr>\n",
       "      <th>1</th>\n",
       "      <td>Michael Smith</td>\n",
       "      <td>456 Elm Avenue</td>\n",
       "      <td>Portland</td>\n",
       "      <td>OR</td>\n",
       "      <td>97201</td>\n",
       "      <td>3105552345</td>\n",
       "    </tr>\n",
       "    <tr>\n",
       "      <th>2</th>\n",
       "      <td>Olivia Williams</td>\n",
       "      <td>789 Maple Lane</td>\n",
       "      <td>Houston</td>\n",
       "      <td>TX</td>\n",
       "      <td>77002</td>\n",
       "      <td>4045554567</td>\n",
       "    </tr>\n",
       "    <tr>\n",
       "      <th>3</th>\n",
       "      <td>Ethan Brown</td>\n",
       "      <td>101 Pine Street</td>\n",
       "      <td>New York</td>\n",
       "      <td>NY</td>\n",
       "      <td>10001</td>\n",
       "      <td>5125556789</td>\n",
       "    </tr>\n",
       "    <tr>\n",
       "      <th>4</th>\n",
       "      <td>Ava Jones</td>\n",
       "      <td>234 Cedar Road</td>\n",
       "      <td>Los Angeles</td>\n",
       "      <td>CA</td>\n",
       "      <td>90001</td>\n",
       "      <td>6175558901</td>\n",
       "    </tr>\n",
       "    <tr>\n",
       "      <th>5</th>\n",
       "      <td>Noah Taylor</td>\n",
       "      <td>567 Birch Boulevard</td>\n",
       "      <td>Chicago</td>\n",
       "      <td>IL</td>\n",
       "      <td>60601</td>\n",
       "      <td>7025551234</td>\n",
       "    </tr>\n",
       "    <tr>\n",
       "      <th>6</th>\n",
       "      <td>Sophia Martinez</td>\n",
       "      <td>890 Walnut Drive</td>\n",
       "      <td>Atlanta</td>\n",
       "      <td>GA</td>\n",
       "      <td>30301</td>\n",
       "      <td>8135553456</td>\n",
       "    </tr>\n",
       "    <tr>\n",
       "      <th>7</th>\n",
       "      <td>Liam Anderson</td>\n",
       "      <td>1123 Willow Way</td>\n",
       "      <td>Miami</td>\n",
       "      <td>FL</td>\n",
       "      <td>33101</td>\n",
       "      <td>9145555678</td>\n",
       "    </tr>\n",
       "    <tr>\n",
       "      <th>8</th>\n",
       "      <td>Isabella Wilson</td>\n",
       "      <td>4567 Oakwood Court</td>\n",
       "      <td>Seattle</td>\n",
       "      <td>WA</td>\n",
       "      <td>98101</td>\n",
       "      <td>9715557890</td>\n",
       "    </tr>\n",
       "    <tr>\n",
       "      <th>9</th>\n",
       "      <td>Mason Davis</td>\n",
       "      <td>8901 Cedarwood Avenue</td>\n",
       "      <td>Dallas</td>\n",
       "      <td>TX</td>\n",
       "      <td>75201</td>\n",
       "      <td>9895559012</td>\n",
       "    </tr>\n",
       "  </tbody>\n",
       "</table>\n",
       "</div>"
      ],
      "text/plain": [
       "              name                address          city state    zip  \\\n",
       "0    Emily Johnson         123 Oak Street   Springfield    IL  62701   \n",
       "1    Michael Smith         456 Elm Avenue      Portland    OR  97201   \n",
       "2  Olivia Williams         789 Maple Lane       Houston    TX  77002   \n",
       "3      Ethan Brown        101 Pine Street      New York    NY  10001   \n",
       "4        Ava Jones         234 Cedar Road   Los Angeles    CA  90001   \n",
       "5      Noah Taylor    567 Birch Boulevard       Chicago    IL  60601   \n",
       "6  Sophia Martinez       890 Walnut Drive       Atlanta    GA  30301   \n",
       "7    Liam Anderson        1123 Willow Way         Miami    FL  33101   \n",
       "8  Isabella Wilson     4567 Oakwood Court       Seattle    WA  98101   \n",
       "9      Mason Davis  8901 Cedarwood Avenue        Dallas    TX  75201   \n",
       "\n",
       "   phone_number  \n",
       "0    2015550123  \n",
       "1    3105552345  \n",
       "2    4045554567  \n",
       "3    5125556789  \n",
       "4    6175558901  \n",
       "5    7025551234  \n",
       "6    8135553456  \n",
       "7    9145555678  \n",
       "8    9715557890  \n",
       "9    9895559012  "
      ]
     },
     "execution_count": 30,
     "metadata": {},
     "output_type": "execute_result"
    }
   ],
   "source": [
    "pd.read_sql(\"SELECT * FROM user_profile\", db)"
   ]
  },
  {
   "cell_type": "code",
   "execution_count": 31,
   "id": "f9c1f114",
   "metadata": {},
   "outputs": [],
   "source": [
    "# Delete the table \n",
    "cursor = db_con.cursor()\n",
    "cursor.execute(f\"DROP TABLE IF EXISTS user_profile;\")\n",
    "db_con.commit()\n"
   ]
  },
  {
   "cell_type": "code",
   "execution_count": 32,
   "id": "e997df83",
   "metadata": {},
   "outputs": [],
   "source": [
    "# close the connections \n",
    "cursor.close()\n",
    "db_con.close()"
   ]
  }
 ],
 "metadata": {
  "kernelspec": {
   "display_name": "Python 3 (ipykernel)",
   "language": "python",
   "name": "python3"
  },
  "language_info": {
   "codemirror_mode": {
    "name": "ipython",
    "version": 3
   },
   "file_extension": ".py",
   "mimetype": "text/x-python",
   "name": "python",
   "nbconvert_exporter": "python",
   "pygments_lexer": "ipython3",
   "version": "3.11.5"
  }
 },
 "nbformat": 4,
 "nbformat_minor": 5
}
